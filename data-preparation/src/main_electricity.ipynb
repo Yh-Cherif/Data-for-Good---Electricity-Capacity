{
 "cells": [
  {
   "cell_type": "code",
   "execution_count": 7,
   "metadata": {},
   "outputs": [
    {
     "name": "stderr",
     "output_type": "stream",
     "text": [
      "c:\\Users\\Cheri\\Desktop\\Data for Good\\Shift Data Portal\\sdp_git - Copie\\shiftdataportal\\data-preparation\\src\\utils\\utils.py:145: SettingWithCopyWarning: \n",
      "A value is trying to be set on a copy of a slice from a DataFrame.\n",
      "Try using .loc[row_indexer,col_indexer] = value instead\n",
      "\n",
      "See the caveats in the documentation: https://pandas.pydata.org/pandas-docs/stable/user_guide/indexing.html#returning-a-view-versus-a-copy\n",
      "  table['energy_family'] = np.select([table['energy_family'].str.contains(\"biomass and waste\"),\n"
     ]
    }
   ],
   "source": [
    "############################\n",
    "###### Initialisation ######\n",
    "############################\n",
    "\n",
    "import pandas as pd\n",
    "import numpy as np\n",
    "from utils.utils import get_energy_type, pivot_dates, CountryTranslatorFrenchToEnglish, GroupMaker\n",
    "from utils.format import StatisticsDataframeFormatter\n",
    "import os\n",
    "\n",
    "PATH_MAIN = r'C:\\Users\\Cheri\\Desktop\\Data for Good\\Shift Data Portal\\sdp_git - Copie\\shiftdataportal\\data-preparation\\src'\n",
    "PATH_ELECTRICITY_DATA = r'C:\\Users\\Cheri\\Desktop\\Data for Good\\Shift Data Portal\\data\\data_2023_qua.csv'\n",
    "PATH_COUNTRIES = 'country_groups.csv'\n",
    "EXPORT_PATH = r'C:\\Users\\Cheri\\Desktop\\Data for Good\\Shift Data Portal\\sdp_git - Copie\\shiftdataportal\\data-preparation\\data\\new_prod_data\\WORLD_ENERGY_HISTORY_electricity_capacity_prod.csv'\n",
    "\n",
    "os.chdir(PATH_MAIN)\n",
    "\n",
    "\n",
    "######################################################\n",
    "###### Chargement et Transformation des données ######\n",
    "######################################################\n",
    "\n",
    "\n",
    "### Data loading \n",
    "data = pd.read_csv(PATH_ELECTRICITY_DATA, skiprows=1)\n",
    "\n",
    "# Importing the country groups table\n",
    "countries = pd.read_csv(PATH_COUNTRIES)\n",
    "\n",
    "\n",
    "############ Data Transformation ############\n",
    "\n",
    "### Energy Type\n",
    "data = get_energy_type(data)\n",
    "\n",
    "### Pivoting table\n",
    "data = pivot_dates(data)\n",
    "\n",
    "### Country Translation\n",
    "data['country'] = CountryTranslatorFrenchToEnglish().run(serie_country_to_translate=data['country'], \n",
    "                                                         raise_errors=True)\n",
    "\n",
    "# Adding groups to dataset\n",
    "data = GroupMaker(data, countries)\n",
    "\n",
    "# Adding the context columns\n",
    "data['source'] = 'US EIA'\n",
    "data['unit'] = 'GW'\n",
    "\n",
    "# Dataframe ordering\n",
    "data = data[[\"source\", \"group_type\", \"country\", \"year\", \"energy_family\", \"power\", \"unit\"]]\n",
    "\n",
    "# Formating the dataset\n",
    "data = StatisticsDataframeFormatter.select_and_sort_values(df=data, \n",
    "                                                           col_statistics='power')\n",
    "\n",
    "\n",
    "#####################################\n",
    "###### Testing and data export ######\n",
    "#####################################\n",
    "\n",
    "# Testing for missing values\n",
    "assert data.isna().sum().sum() == 0, \"Missing values are present in the final dataset.\" \n",
    "\n",
    "# Exporting to csv\n",
    "data.to_csv(EXPORT_PATH, index=False)"
   ]
  }
 ],
 "metadata": {
  "kernelspec": {
   "display_name": "Python 3",
   "language": "python",
   "name": "python3"
  },
  "language_info": {
   "codemirror_mode": {
    "name": "ipython",
    "version": 3
   },
   "file_extension": ".py",
   "mimetype": "text/x-python",
   "name": "python",
   "nbconvert_exporter": "python",
   "pygments_lexer": "ipython3",
   "version": "3.11.9"
  }
 },
 "nbformat": 4,
 "nbformat_minor": 2
}
